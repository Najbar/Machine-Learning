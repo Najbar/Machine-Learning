{
 "cells": [
  {
   "cell_type": "markdown",
   "metadata": {},
   "source": [
    "# Przygotowanie bibliotek i wczytanie danych"
   ]
  },
  {
   "cell_type": "code",
   "execution_count": 1,
   "metadata": {},
   "outputs": [],
   "source": [
    "import numpy as np\n",
    "import pandas as pd\n",
    "\n",
    "from sklearn import svm\n",
    "from sklearn.linear_model import LogisticRegression\n",
    "from sklearn import metrics\n",
    "from sklearn.metrics import confusion_matrix\n",
    "from sklearn.model_selection import train_test_split\n",
    "\n",
    "import seaborn as sns\n",
    "import matplotlib.pyplot as plt"
   ]
  },
  {
   "cell_type": "code",
   "execution_count": 2,
   "metadata": {},
   "outputs": [],
   "source": [
    "defaults = pd.read_csv(\"defaults.csv\", sep = \";\")\n",
    "defaults.drop('ID', axis='columns', inplace=True)\n",
    "# defaults.head()"
   ]
  },
  {
   "cell_type": "markdown",
   "metadata": {},
   "source": [
    "# Analiza zbioru danych"
   ]
  },
  {
   "cell_type": "code",
   "execution_count": 3,
   "metadata": {},
   "outputs": [
    {
     "data": {
      "text/plain": [
       "0    0.778\n",
       "1    0.222\n",
       "Name: default payment next month, dtype: float64"
      ]
     },
     "execution_count": 3,
     "metadata": {},
     "output_type": "execute_result"
    }
   ],
   "source": [
    "round(defaults[\"default payment next month\"].value_counts() / len(defaults), 3)"
   ]
  },
  {
   "cell_type": "markdown",
   "metadata": {},
   "source": [
    "Przeanalizuj załadowany zbiór danych. Czy klasy decyzyjne są “zbalansowane”?\n",
    "\n",
    "Dane nie są zbalansowane. Zmienna klasyfikacyjna ma wartość 0 w ok. 78% przypadków, a wartość 1 w ok. 22% przypadków."
   ]
  },
  {
   "cell_type": "code",
   "execution_count": 4,
   "metadata": {},
   "outputs": [
    {
     "name": "stdout",
     "output_type": "stream",
     "text": [
      "LIMIT_BAL                    -0.152069\n",
      "SEX                          -0.038910\n",
      "EDUCATION                     0.028307\n",
      "MARRIAGE                     -0.024699\n",
      "AGE                           0.012804\n",
      "PAY_0                         0.325488\n",
      "PAY_2                         0.262358\n",
      "PAY_3                         0.232686\n",
      "PAY_4                         0.212571\n",
      "PAY_5                         0.202783\n",
      "PAY_6                         0.184743\n",
      "BILL_AMT1                    -0.020690\n",
      "BILL_AMT2                    -0.014707\n",
      "BILL_AMT3                    -0.014931\n",
      "BILL_AMT4                    -0.009766\n",
      "BILL_AMT5                    -0.007018\n",
      "BILL_AMT6                    -0.005246\n",
      "PAY_AMT1                     -0.076654\n",
      "PAY_AMT2                     -0.063145\n",
      "PAY_AMT3                     -0.057249\n",
      "PAY_AMT4                     -0.057171\n",
      "PAY_AMT5                     -0.053631\n",
      "PAY_AMT6                     -0.055104\n",
      "default payment next month    1.000000\n",
      "Name: default payment next month, dtype: float64\n"
     ]
    }
   ],
   "source": [
    "pd.set_option('display.max_rows', 100)\n",
    "\n",
    "def_corr = defaults.corr()['default payment next month']\n",
    "print(def_corr)"
   ]
  },
  {
   "cell_type": "markdown",
   "metadata": {},
   "source": [
    "Przeanalizuj wpływ poszczególnych atrybutów danych na wpływ klasyfikacji.\n",
    "W powyższym zestawieniu przedstawiony jest poziom skorelowania atrybutów ze zmienną 'default payment next month' \n",
    "\n",
    "Czy wykorzystanie wszystkich z nich może wpłynąć na poprawność klasyfikacji?\n",
    "To pytanie pozostawiam na kolejne etapy analizy."
   ]
  },
  {
   "cell_type": "markdown",
   "metadata": {},
   "source": [
    "# Zamiana danych kategorycznych na zmienne binarne"
   ]
  },
  {
   "cell_type": "code",
   "execution_count": 5,
   "metadata": {},
   "outputs": [],
   "source": [
    "for col in ['SEX', 'EDUCATION', 'MARRIAGE', 'PAY_0', 'PAY_2', 'PAY_3', 'PAY_4', 'PAY_5', 'PAY_6']:\n",
    "    defaults[col] = defaults[col].astype('category')\n",
    "# defaults.info()"
   ]
  },
  {
   "cell_type": "code",
   "execution_count": 6,
   "metadata": {},
   "outputs": [],
   "source": [
    "defaults = pd.get_dummies(data=defaults, drop_first=True)\n",
    "# defaults.info()"
   ]
  },
  {
   "cell_type": "code",
   "execution_count": 7,
   "metadata": {},
   "outputs": [],
   "source": [
    "# defaults.head()"
   ]
  },
  {
   "cell_type": "markdown",
   "metadata": {},
   "source": [
    "# Standaryzacja zmiennych niebinarnych"
   ]
  },
  {
   "cell_type": "code",
   "execution_count": 8,
   "metadata": {},
   "outputs": [],
   "source": [
    "from sklearn.preprocessing import StandardScaler\n",
    "\n",
    "scaler = StandardScaler()\n",
    "defaults[['LIMIT_BAL', 'AGE','BILL_AMT1','BILL_AMT2','BILL_AMT3','BILL_AMT4','BILL_AMT5','BILL_AMT6'\n",
    "        ,'PAY_AMT1','PAY_AMT2','PAY_AMT3','PAY_AMT4','PAY_AMT5','PAY_AMT6']] = scaler.fit_transform(defaults[['LIMIT_BAL', 'AGE','BILL_AMT1','BILL_AMT2','BILL_AMT3','BILL_AMT4','BILL_AMT5','BILL_AMT6'\n",
    "        ,'PAY_AMT1','PAY_AMT2','PAY_AMT3','PAY_AMT4','PAY_AMT5','PAY_AMT6']])\n",
    "# defaults.head()\n",
    "# defaults.info()"
   ]
  },
  {
   "cell_type": "markdown",
   "metadata": {},
   "source": [
    "# Zdecydowałem się wziąć wszystkie kolumny do modelu"
   ]
  },
  {
   "cell_type": "code",
   "execution_count": 9,
   "metadata": {},
   "outputs": [],
   "source": [
    "a = defaults.columns[0:-1].tolist()\n",
    "X = defaults[a]\n",
    "y = defaults[\"default payment next month\"].copy()\n",
    "# print(X, y)"
   ]
  },
  {
   "cell_type": "markdown",
   "metadata": {},
   "source": [
    "# Regresja logistyczna"
   ]
  },
  {
   "cell_type": "code",
   "execution_count": 10,
   "metadata": {},
   "outputs": [
    {
     "name": "stdout",
     "output_type": "stream",
     "text": [
      "[[6531    0]\n",
      " [   0 1869]]\n",
      "              precision    recall  f1-score   support\n",
      "\n",
      "           0       1.00      1.00      1.00      6531\n",
      "           1       1.00      1.00      1.00      1869\n",
      "\n",
      "    accuracy                           1.00      8400\n",
      "   macro avg       1.00      1.00      1.00      8400\n",
      "weighted avg       1.00      1.00      1.00      8400\n",
      "\n"
     ]
    }
   ],
   "source": [
    "X_train, X_test, y_train, y_test = train_test_split(X, y, test_size=0.3)\n",
    "mdl = LogisticRegression(C = 1)\n",
    "resLG = mdl.fit(X_train, y_train)\n",
    "predictions = mdl.predict(X_test)\n",
    "print(metrics.confusion_matrix(y_test, predictions))\n",
    "print(metrics.classification_report(y_test, predictions))"
   ]
  },
  {
   "cell_type": "code",
   "execution_count": 11,
   "metadata": {},
   "outputs": [
    {
     "data": {
      "text/plain": [
       "<sklearn.metrics._plot.roc_curve.RocCurveDisplay at 0x170ac9b4a60>"
      ]
     },
     "execution_count": 11,
     "metadata": {},
     "output_type": "execute_result"
    },
    {
     "data": {
      "image/png": "[encoded data removed]",
      "text/plain": [
       "<Figure size 432x288 with 1 Axes>"
      ]
     },
     "metadata": {
      "needs_background": "light"
     },
     "output_type": "display_data"
    }
   ],
   "source": [
    "metrics.plot_roc_curve(mdl, X_test, y_test)"
   ]
  },
  {
   "cell_type": "markdown",
   "metadata": {},
   "source": [
    "Regresja logistyczna pozwala w 100% przyporządkować elementy do poszczególnych klas\n",
    "w zbiorze testowym."
   ]
  },
  {
   "cell_type": "markdown",
   "metadata": {},
   "source": [
    "# SVM  (kernel = 'linear')"
   ]
  },
  {
   "cell_type": "code",
   "execution_count": 12,
   "metadata": {},
   "outputs": [
    {
     "name": "stdout",
     "output_type": "stream",
     "text": [
      "[[6522    0]\n",
      " [   0 1878]]\n",
      "              precision    recall  f1-score   support\n",
      "\n",
      "           0       1.00      1.00      1.00      6522\n",
      "           1       1.00      1.00      1.00      1878\n",
      "\n",
      "    accuracy                           1.00      8400\n",
      "   macro avg       1.00      1.00      1.00      8400\n",
      "weighted avg       1.00      1.00      1.00      8400\n",
      "\n"
     ]
    }
   ],
   "source": [
    "X_train, X_test, y_train, y_test = train_test_split(X, y, test_size=0.3)\n",
    "mdl = svm.SVC(C = 1, kernel = 'linear')\n",
    "resSVM = mdl.fit(X_train, y_train)\n",
    "predictions = resSVM.predict(X_test)\n",
    "print(metrics.confusion_matrix(predictions, y_test))\n",
    "print(metrics.classification_report(y_test, predictions))"
   ]
  },
  {
   "cell_type": "code",
   "execution_count": 13,
   "metadata": {},
   "outputs": [
    {
     "data": {
      "text/plain": [
       "<sklearn.metrics._plot.roc_curve.RocCurveDisplay at 0x170b2ff2550>"
      ]
     },
     "execution_count": 13,
     "metadata": {},
     "output_type": "execute_result"
    },
    {
     "data": {
      "image/png": "[encoded data removed]",
      "text/plain": [
       "<Figure size 432x288 with 1 Axes>"
      ]
     },
     "metadata": {
      "needs_background": "light"
     },
     "output_type": "display_data"
    }
   ],
   "source": [
    "metrics.plot_roc_curve(mdl, X_test, y_test)"
   ]
  },
  {
   "cell_type": "markdown",
   "metadata": {},
   "source": [
    "SVM z jądem liniowym pozwala w 100% na przyporządkowanie elementów do poszczególnych klas\n",
    "w zbiorze testowym."
   ]
  },
  {
   "cell_type": "markdown",
   "metadata": {},
   "source": [
    "# SVM (kernel = 'rbf')"
   ]
  },
  {
   "cell_type": "markdown",
   "metadata": {},
   "source": [
    "C=1"
   ]
  },
  {
   "cell_type": "code",
   "execution_count": 14,
   "metadata": {},
   "outputs": [
    {
     "name": "stdout",
     "output_type": "stream",
     "text": [
      "[[6546   28]\n",
      " [   0 1826]]\n",
      "              precision    recall  f1-score   support\n",
      "\n",
      "           0       1.00      1.00      1.00      6546\n",
      "           1       1.00      0.98      0.99      1854\n",
      "\n",
      "    accuracy                           1.00      8400\n",
      "   macro avg       1.00      0.99      1.00      8400\n",
      "weighted avg       1.00      1.00      1.00      8400\n",
      "\n"
     ]
    }
   ],
   "source": [
    "X_train, X_test, y_train, y_test = train_test_split(X, y, test_size=0.3)\n",
    "mdl = svm.SVC(C = 1, kernel = 'rbf')\n",
    "resSVM = mdl.fit(X_train, y_train)\n",
    "predictions = resSVM.predict(X_test)\n",
    "print(metrics.confusion_matrix(predictions, y_test))\n",
    "print(metrics.classification_report(y_test, predictions))"
   ]
  },
  {
   "cell_type": "markdown",
   "metadata": {},
   "source": [
    "SVM z jądem rbf (C=1) pozwala w niemal 100% na przyporządkowanie elementów do poszczególnych klas\n",
    "w zbiorze testowym."
   ]
  },
  {
   "cell_type": "markdown",
   "metadata": {},
   "source": [
    "Zakomentowałem pozostałe warianty SVM kernel='rbf' ponieważ kod wykonuje się od kilku do kilkunastu minut"
   ]
  },
  {
   "cell_type": "markdown",
   "metadata": {},
   "source": [
    "C=100"
   ]
  },
  {
   "cell_type": "code",
   "execution_count": 15,
   "metadata": {},
   "outputs": [],
   "source": [
    "# mdl = svm.SVC(C = 100, kernel = 'rbf')\n",
    "# resSVM = mdl.fit(X_train, y_train)\n",
    "# predictions = resSVM.predict(X_test)\n",
    "# print(metrics.confusion_matrix(predictions, y_test))\n",
    "# print(metrics.classification_report(y_test, predictions))"
   ]
  },
  {
   "cell_type": "markdown",
   "metadata": {},
   "source": [
    "C=1, gamma=1"
   ]
  },
  {
   "cell_type": "code",
   "execution_count": 16,
   "metadata": {},
   "outputs": [],
   "source": [
    "# mdl = svm.SVC(C = 1, kernel = 'rbf', gamma = 1)\n",
    "# resSVM = mdl.fit(X_train, y_train)\n",
    "# predictions = resSVM.predict(X_test)\n",
    "# print(metrics.confusion_matrix(predictions, y_test))\n",
    "# print(metrics.classification_report(y_test, predictions))"
   ]
  },
  {
   "cell_type": "markdown",
   "metadata": {},
   "source": [
    "C = 100, gamma = 500"
   ]
  },
  {
   "cell_type": "code",
   "execution_count": 17,
   "metadata": {},
   "outputs": [],
   "source": [
    "# mdl = svm.SVC(C = 100, kernel = 'rbf', gamma = 500)\n",
    "# resSVM = mdl.fit(X, y)\n",
    "# predictions = resSVM.predict(X)\n",
    "# print(metrics.confusion_matrix(y, predictions))\n",
    "# print(metrics.classification_report(y, predictions))"
   ]
  },
  {
   "cell_type": "markdown",
   "metadata": {},
   "source": [
    "C = 1, gamma = 0.1"
   ]
  },
  {
   "cell_type": "code",
   "execution_count": 18,
   "metadata": {},
   "outputs": [],
   "source": [
    "# mdl = svm.SVC(C = 1, kernel = 'rbf', gamma = 0.1)\n",
    "# resSVM = mdl.fit(X, y)\n",
    "# predictions = resSVM.predict(X)\n",
    "# print(metrics.confusion_matrix(y, predictions))\n",
    "# print(metrics.classification_report(y, predictions))"
   ]
  },
  {
   "cell_type": "markdown",
   "metadata": {},
   "source": [
    "SVM z jądem rbf dla różnych wartości parametrów C i gamma pozwala w niemal 100% na przyporządkowanie elementów do poszczególnych klas w zbiorze testowym."
   ]
  },
  {
   "cell_type": "markdown",
   "metadata": {},
   "source": [
    "# Walidacja krzyżowa - SVM z jądrem liniowym"
   ]
  },
  {
   "cell_type": "code",
   "execution_count": 19,
   "metadata": {},
   "outputs": [
    {
     "name": "stdout",
     "output_type": "stream",
     "text": [
      "Accuracy: 1.000\n"
     ]
    }
   ],
   "source": [
    "from sklearn.model_selection import KFold\n",
    "from sklearn.model_selection import cross_val_score\n",
    "\n",
    "mdl = svm.SVC(C = 1, kernel = 'linear')\n",
    "cv = KFold(n_splits=10, shuffle=True)\n",
    "scores = cross_val_score(mdl, X, y, scoring='accuracy', cv=cv)\n",
    "print('Accuracy: %.3f' % (np.mean(scores)))"
   ]
  },
  {
   "cell_type": "code",
   "execution_count": 20,
   "metadata": {},
   "outputs": [
    {
     "name": "stdout",
     "output_type": "stream",
     "text": [
      "Accuracy: 1.000\n"
     ]
    }
   ],
   "source": [
    "from sklearn.model_selection import RepeatedKFold\n",
    "mdl = svm.SVC(C = 1, kernel = 'linear')\n",
    "cv = RepeatedKFold(n_splits=7, n_repeats=10)\n",
    "scores = cross_val_score(mdl, X, y, scoring='accuracy', cv=cv)\n",
    "print('Accuracy: %.3f' % (np.mean(scores)))"
   ]
  },
  {
   "cell_type": "markdown",
   "metadata": {},
   "source": [
    "Walidacja krzyżowa dla SVM z jądrem liniowym potwierdza, że model przyporządkowuje dane do klas\n",
    "ze 100% skutecznością."
   ]
  },
  {
   "cell_type": "markdown",
   "metadata": {},
   "source": [
    "# Walidacja na zbiorze defaults_valid.csv"
   ]
  },
  {
   "cell_type": "code",
   "execution_count": 21,
   "metadata": {},
   "outputs": [],
   "source": [
    "validation = pd.read_csv(\"defaults_valid.csv\", sep = \";\")\n",
    "validation.drop('ID', axis='columns', inplace=True)"
   ]
  },
  {
   "cell_type": "code",
   "execution_count": 22,
   "metadata": {},
   "outputs": [],
   "source": [
    "for col in ['SEX', 'EDUCATION', 'MARRIAGE', 'PAY_0', 'PAY_2', 'PAY_3', 'PAY_4', 'PAY_5', 'PAY_6']:\n",
    "    validation[col] = validation[col].astype('category')"
   ]
  },
  {
   "cell_type": "code",
   "execution_count": 23,
   "metadata": {},
   "outputs": [],
   "source": [
    "validation = pd.get_dummies(data=validation, drop_first=True)\n",
    "# validation.info()"
   ]
  },
  {
   "cell_type": "code",
   "execution_count": 24,
   "metadata": {},
   "outputs": [],
   "source": [
    "from sklearn.preprocessing import StandardScaler\n",
    "\n",
    "scaler = StandardScaler()\n",
    "validation[['LIMIT_BAL', 'AGE','BILL_AMT1','BILL_AMT2','BILL_AMT3','BILL_AMT4','BILL_AMT5','BILL_AMT6'\n",
    "        ,'PAY_AMT1','PAY_AMT2','PAY_AMT3','PAY_AMT4','PAY_AMT5','PAY_AMT6']] = scaler.fit_transform(validation[['LIMIT_BAL', 'AGE','BILL_AMT1','BILL_AMT2','BILL_AMT3','BILL_AMT4','BILL_AMT5','BILL_AMT6'\n",
    "        ,'PAY_AMT1','PAY_AMT2','PAY_AMT3','PAY_AMT4','PAY_AMT5','PAY_AMT6']])\n",
    "# validation.info()"
   ]
  },
  {
   "cell_type": "markdown",
   "metadata": {},
   "source": [
    "Do modelu biorę tylko te kolumny, które istnieją w zbiorze walidacyjnym\n",
    "(zmienne kategoryczne w zbiorze walidacyjnym mają mniej poziomów)"
   ]
  },
  {
   "cell_type": "code",
   "execution_count": 25,
   "metadata": {},
   "outputs": [],
   "source": [
    "a = validation.columns[0:-1].tolist()\n",
    "\n",
    "X = defaults[a]\n",
    "y = defaults[\"default payment next month\"].copy()\n",
    "\n",
    "X_validation = validation[a]\n",
    "y_validation = validation[\"default payment next month\"].copy()\n",
    "# print(X_validation, y_validation)"
   ]
  },
  {
   "cell_type": "markdown",
   "metadata": {},
   "source": [
    "Walidacja - regresja logistyczna"
   ]
  },
  {
   "cell_type": "code",
   "execution_count": 26,
   "metadata": {},
   "outputs": [
    {
     "name": "stdout",
     "output_type": "stream",
     "text": [
      "[[1575    0]\n",
      " [   0  426]]\n",
      "              precision    recall  f1-score   support\n",
      "\n",
      "           0       1.00      1.00      1.00      1575\n",
      "           1       1.00      1.00      1.00       426\n",
      "\n",
      "    accuracy                           1.00      2001\n",
      "   macro avg       1.00      1.00      1.00      2001\n",
      "weighted avg       1.00      1.00      1.00      2001\n",
      "\n"
     ]
    }
   ],
   "source": [
    "mdl = LogisticRegression(C = 1, max_iter = 1000)\n",
    "resLG = mdl.fit(X, y)\n",
    "predictions = mdl.predict(X_validation)\n",
    "print(metrics.confusion_matrix(y_validation, predictions))\n",
    "print(metrics.classification_report(y_validation, predictions))"
   ]
  },
  {
   "cell_type": "markdown",
   "metadata": {},
   "source": [
    "Model regresji logistycznej pozwala na w 100% poprawną klasyfikację zbioru walidacyjnego."
   ]
  },
  {
   "cell_type": "markdown",
   "metadata": {},
   "source": [
    "Walidacja - SVM (kernel = 'linear')"
   ]
  },
  {
   "cell_type": "code",
   "execution_count": 27,
   "metadata": {},
   "outputs": [
    {
     "name": "stdout",
     "output_type": "stream",
     "text": [
      "[[1575    0]\n",
      " [   0  426]]\n",
      "              precision    recall  f1-score   support\n",
      "\n",
      "           0       1.00      1.00      1.00      1575\n",
      "           1       1.00      1.00      1.00       426\n",
      "\n",
      "    accuracy                           1.00      2001\n",
      "   macro avg       1.00      1.00      1.00      2001\n",
      "weighted avg       1.00      1.00      1.00      2001\n",
      "\n"
     ]
    }
   ],
   "source": [
    "mdl = svm.SVC(C = 1, kernel = 'linear')\n",
    "resSVM = mdl.fit(X, y)\n",
    "predictions = resSVM.predict(X_validation)\n",
    "print(metrics.confusion_matrix(y_validation, predictions))\n",
    "print(metrics.classification_report(y_validation, predictions))"
   ]
  },
  {
   "cell_type": "markdown",
   "metadata": {},
   "source": [
    "Model SVM z jądrem liniowym pozwala na w 100% poprawną klasyfikację zbioru walidacyjnego."
   ]
  },
  {
   "cell_type": "code",
   "execution_count": 28,
   "metadata": {},
   "outputs": [
    {
     "name": "stdout",
     "output_type": "stream",
     "text": [
      "[[1575    0]\n",
      " [   7  419]]\n",
      "              precision    recall  f1-score   support\n",
      "\n",
      "           0       1.00      1.00      1.00      1575\n",
      "           1       1.00      0.98      0.99       426\n",
      "\n",
      "    accuracy                           1.00      2001\n",
      "   macro avg       1.00      0.99      0.99      2001\n",
      "weighted avg       1.00      1.00      1.00      2001\n",
      "\n"
     ]
    }
   ],
   "source": [
    "mdl = svm.SVC(C = 1, kernel = 'rbf')\n",
    "resSVM = mdl.fit(X, y)\n",
    "predictions = resSVM.predict(X_validation)\n",
    "print(metrics.confusion_matrix(y_validation, predictions))\n",
    "print(metrics.classification_report(y_validation, predictions))"
   ]
  },
  {
   "cell_type": "markdown",
   "metadata": {},
   "source": [
    "Model SVM z jądrem liniowym pozwala na niemal w 100% poprawną klasyfikację zbioru walidacyjnego."
   ]
  }
 ],
 "metadata": {
  "kernelspec": {
   "display_name": "Python 3",
   "language": "python",
   "name": "python3"
  },
  "language_info": {
   "codemirror_mode": {
    "name": "ipython",
    "version": 3
   },
   "file_extension": ".py",
   "mimetype": "text/x-python",
   "name": "python",
   "nbconvert_exporter": "python",
   "pygments_lexer": "ipython3",
   "version": "3.8.3"
  }
 },
 "nbformat": 4,
 "nbformat_minor": 4
}
